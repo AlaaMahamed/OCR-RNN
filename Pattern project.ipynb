{
 "cells": [
  {
   "cell_type": "code",
   "execution_count": 1,
   "id": "aeffafe8",
   "metadata": {},
   "outputs": [],
   "source": [
    "'''\n",
    "RNN for MNIST digits classification\n",
    "98.3% test accuracy in 20epochs\n",
    "https://github.com/PacktPublishing/Advanced-Deep-Learning-with-Keras\n",
    "'''\n",
    "\n",
    "from __future__ import absolute_import\n",
    "from __future__ import division\n",
    "from __future__ import print_function\n",
    "\n",
    "import numpy as np\n",
    "from tensorflow.keras.models import Sequential\n",
    "from tensorflow.keras.layers import Dense, Activation, SimpleRNN\n",
    "from tensorflow.keras.utils import to_categorical, plot_model\n",
    "from tensorflow.keras.datasets import mnist\n"
   ]
  },
  {
   "cell_type": "code",
   "execution_count": 2,
   "id": "6e3aa890",
   "metadata": {},
   "outputs": [
    {
     "name": "stdout",
     "output_type": "stream",
     "text": [
      "Downloading data from https://storage.googleapis.com/tensorflow/tf-keras-datasets/mnist.npz\n",
      "11493376/11490434 [==============================] - 6s 1us/step\n",
      "11501568/11490434 [==============================] - 6s 1us/step\n"
     ]
    }
   ],
   "source": [
    "# load mnist dataset\n",
    "(x_train, y_train), (x_test, y_test) = mnist.load_data()\n",
    "\n",
    "# compute the number of labels\n",
    "num_labels = len(np.unique(y_train))\n",
    "\n",
    "# convert to one-hot vector\n",
    "y_train = to_categorical(y_train)\n",
    "y_test = to_categorical(y_test)\n",
    "\n",
    "# resize and normalize\n",
    "image_size = x_train.shape[1]\n",
    "x_train = np.reshape(x_train,[-1, image_size, image_size])\n",
    "x_test = np.reshape(x_test,[-1, image_size, image_size])\n",
    "x_train = x_train.astype('float32') / 255\n",
    "x_test = x_test.astype('float32') / 255\n"
   ]
  },
  {
   "cell_type": "code",
   "execution_count": 3,
   "id": "075ffd64",
   "metadata": {},
   "outputs": [],
   "source": [
    "# network parameters\n",
    "input_shape = (image_size, image_size)\n",
    "batch_size = 128\n",
    "units = 256\n",
    "dropout = 0.2\n"
   ]
  },
  {
   "cell_type": "code",
   "execution_count": 4,
   "id": "7ef98066",
   "metadata": {},
   "outputs": [
    {
     "name": "stdout",
     "output_type": "stream",
     "text": [
      "Model: \"sequential\"\n",
      "_________________________________________________________________\n",
      " Layer (type)                Output Shape              Param #   \n",
      "=================================================================\n",
      " simple_rnn (SimpleRNN)      (None, 256)               72960     \n",
      "                                                                 \n",
      " dense (Dense)               (None, 10)                2570      \n",
      "                                                                 \n",
      " activation (Activation)     (None, 10)                0         \n",
      "                                                                 \n",
      "=================================================================\n",
      "Total params: 75,530\n",
      "Trainable params: 75,530\n",
      "Non-trainable params: 0\n",
      "_________________________________________________________________\n",
      "Epoch 1/20\n",
      "469/469 [==============================] - 15s 30ms/step - loss: 0.7246 - accuracy: 0.7929\n",
      "Epoch 2/20\n",
      "469/469 [==============================] - 16s 35ms/step - loss: 0.3142 - accuracy: 0.9075\n",
      "Epoch 3/20\n",
      "469/469 [==============================] - 17s 37ms/step - loss: 0.2313 - accuracy: 0.9316\n",
      "Epoch 4/20\n",
      "469/469 [==============================] - 15s 31ms/step - loss: 0.1919 - accuracy: 0.9431\n",
      "Epoch 5/20\n",
      "469/469 [==============================] - 15s 33ms/step - loss: 0.1660 - accuracy: 0.9508\n",
      "Epoch 6/20\n",
      "469/469 [==============================] - 15s 32ms/step - loss: 0.1475 - accuracy: 0.9554\n",
      "Epoch 7/20\n",
      "469/469 [==============================] - 15s 32ms/step - loss: 0.1357 - accuracy: 0.9596\n",
      "Epoch 8/20\n",
      "469/469 [==============================] - 15s 31ms/step - loss: 0.1244 - accuracy: 0.9622\n",
      "Epoch 9/20\n",
      "469/469 [==============================] - 15s 32ms/step - loss: 0.1164 - accuracy: 0.9641\n",
      "Epoch 10/20\n",
      "469/469 [==============================] - 15s 32ms/step - loss: 0.1093 - accuracy: 0.9667\n",
      "Epoch 11/20\n",
      "469/469 [==============================] - 17s 36ms/step - loss: 0.1032 - accuracy: 0.9685\n",
      "Epoch 12/20\n",
      "469/469 [==============================] - 17s 36ms/step - loss: 0.0977 - accuracy: 0.9696\n",
      "Epoch 13/20\n",
      "469/469 [==============================] - 17s 36ms/step - loss: 0.0921 - accuracy: 0.9719\n",
      "Epoch 14/20\n",
      "469/469 [==============================] - 17s 37ms/step - loss: 0.0889 - accuracy: 0.9725\n",
      "Epoch 15/20\n",
      "469/469 [==============================] - 17s 37ms/step - loss: 0.0854 - accuracy: 0.9744\n",
      "Epoch 16/20\n",
      "469/469 [==============================] - 17s 36ms/step - loss: 0.0809 - accuracy: 0.9754\n",
      "Epoch 17/20\n",
      "469/469 [==============================] - 17s 36ms/step - loss: 0.0766 - accuracy: 0.9760\n",
      "Epoch 18/20\n",
      "469/469 [==============================] - 18s 38ms/step - loss: 0.0752 - accuracy: 0.9770\n",
      "Epoch 19/20\n",
      "469/469 [==============================] - 17s 37ms/step - loss: 0.0738 - accuracy: 0.9774\n",
      "Epoch 20/20\n",
      "469/469 [==============================] - 17s 36ms/step - loss: 0.0696 - accuracy: 0.9785\n"
     ]
    },
    {
     "data": {
      "text/plain": [
       "<keras.callbacks.History at 0x1d9daaedd00>"
      ]
     },
     "execution_count": 4,
     "metadata": {},
     "output_type": "execute_result"
    }
   ],
   "source": [
    "# model is RNN with 256 units, input is 28-dim vector 28 timesteps\n",
    "model = Sequential()\n",
    "model.add(SimpleRNN(units=units,\n",
    "                    dropout=dropout,\n",
    "                    input_shape=input_shape))\n",
    "model.add(Dense(num_labels))\n",
    "model.add(Activation('softmax'))\n",
    "model.summary()\n",
    "# enable this if pydot can be installed\n",
    "# pip install pydot\n",
    "#plot_model(model, to_file='rnn-mnist.png', show_shapes=True)\n",
    "\n",
    "# loss function for one-hot vector\n",
    "# use of sgd optimizer\n",
    "# accuracy is good metric for classification tasks\n",
    "model.compile(loss='categorical_crossentropy',\n",
    "              optimizer='sgd',\n",
    "              metrics=['accuracy'])\n",
    "# train the network\n",
    "model.fit(x_train, y_train, epochs=20, batch_size=batch_size)\n"
   ]
  },
  {
   "cell_type": "code",
   "execution_count": 5,
   "id": "a010fa08",
   "metadata": {},
   "outputs": [
    {
     "name": "stdout",
     "output_type": "stream",
     "text": [
      "\n",
      "Test accuracy: 98.0%\n"
     ]
    }
   ],
   "source": [
    "_, acc = model.evaluate(x_test,\n",
    "                        y_test,\n",
    "                        batch_size=batch_size,\n",
    "                        verbose=0)\n",
    "print(\"\\nTest accuracy: %.1f%%\" % (100.0 * acc))"
   ]
  },
  {
   "cell_type": "code",
   "execution_count": null,
   "id": "4ae59da3",
   "metadata": {},
   "outputs": [],
   "source": []
  }
 ],
 "metadata": {
  "kernelspec": {
   "display_name": "Python 3 (ipykernel)",
   "language": "python",
   "name": "python3"
  },
  "language_info": {
   "codemirror_mode": {
    "name": "ipython",
    "version": 3
   },
   "file_extension": ".py",
   "mimetype": "text/x-python",
   "name": "python",
   "nbconvert_exporter": "python",
   "pygments_lexer": "ipython3",
   "version": "3.9.7"
  }
 },
 "nbformat": 4,
 "nbformat_minor": 5
}
